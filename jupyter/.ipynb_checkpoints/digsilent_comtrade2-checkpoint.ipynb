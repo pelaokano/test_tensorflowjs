{
 "cells": [
  {
   "cell_type": "markdown",
   "id": "ec30af9c",
   "metadata": {},
   "source": [
    "<h1>Clasificación de falla con redes neuronales</h1>"
   ]
  },
  {
   "cell_type": "markdown",
   "id": "ddc451ec",
   "metadata": {},
   "source": [
    "<h2>Trabajo con digsilent para generar los registros de fallas</h2>"
   ]
  },
  {
   "cell_type": "code",
   "execution_count": 1,
   "id": "4725a78d",
   "metadata": {},
   "outputs": [],
   "source": [
    "import sys\n",
    "sys.path.append(r\"C:\\\\Program Files\\\\DIgSILENT\\\\PowerFactory 2021 SP7\\\\Python\\\\3.9\")\n",
    "import powerfactory as pf\n",
    "import pandas as pd\n",
    "import os\n",
    "import numpy as np"
   ]
  },
  {
   "cell_type": "code",
   "execution_count": null,
   "id": "808d2961",
   "metadata": {},
   "outputs": [],
   "source": [
    "app=pf.GetApplicationExt()\n",
    "user=app.GetCurrentUser()\n",
    "print(user)"
   ]
  },
  {
   "cell_type": "code",
   "execution_count": null,
   "id": "2b371189",
   "metadata": {},
   "outputs": [],
   "source": [
    "app.ActivateProject('\\\\56965\\\\simulacion_comtrade.IntPrj')\n",
    "proyecto=app.GetActiveProject()\n",
    "print(proyecto)"
   ]
  },
  {
   "cell_type": "code",
   "execution_count": null,
   "id": "a6d8c4ef",
   "metadata": {},
   "outputs": [],
   "source": [
    "carpeta_estudio=proyecto.GetContents(\"Study Cases.IntPrjfolder\")[0]"
   ]
  },
  {
   "cell_type": "code",
   "execution_count": null,
   "id": "c27dae2c",
   "metadata": {},
   "outputs": [],
   "source": [
    "caso_estudio=carpeta_estudio.GetContents(\"Study Case\")[0]"
   ]
  },
  {
   "cell_type": "code",
   "execution_count": null,
   "id": "851129a4",
   "metadata": {},
   "outputs": [],
   "source": [
    "caso_estudio.Activate()"
   ]
  },
  {
   "cell_type": "code",
   "execution_count": null,
   "id": "5b79a4ed",
   "metadata": {},
   "outputs": [],
   "source": [
    "#comando de condiciones iniciales\n",
    "com_init = app.GetFromStudyCase('ComInc')\n",
    "\n",
    "#comando ejecutar simulaciones EMT\n",
    "com_run = app.GetFromStudyCase('ComSim')    \n",
    "\n",
    "#objeto de eventos\n",
    "eventos = caso_estudio.GetContents('eventos.IntEvt')[0]\n",
    "\n",
    "#objeto para exportar resultados\n",
    "export_resul = caso_estudio.GetContents('Result Export.ComRes')[0]"
   ]
  },
  {
   "cell_type": "code",
   "execution_count": null,
   "id": "0c2e26a2",
   "metadata": {},
   "outputs": [],
   "source": [
    "for eve in eventos.GetContents():\n",
    "    eve.Delete()"
   ]
  },
  {
   "cell_type": "code",
   "execution_count": null,
   "id": "274f3876",
   "metadata": {},
   "outputs": [],
   "source": [
    "#evento tipo cortocircuito\n",
    "evtCC = eventos.CreateObject('EvtShc', 'cortocircuito')\n",
    "#evento tipo despeje de falla\n",
    "evtDes = eventos.CreateObject('EvtShc', 'despejar')\n",
    "#evento tipo apertura interruptores\n",
    "evtOpen = eventos.CreateObject('EvtSwitch', 'abrir')"
   ]
  },
  {
   "cell_type": "code",
   "execution_count": null,
   "id": "b26a6165",
   "metadata": {},
   "outputs": [],
   "source": [
    "linea1 = user.SearchObject(r'\\56965.IntUser\\simulacion_comtrade.IntPrj\\Network Model.IntPrjfolder\\Network Data.IntPrjfolder\\Grid.ElmNet\\linea_1.ElmLne')\n",
    "linea2 = user.SearchObject(r'\\56965.IntUser\\simulacion_comtrade.IntPrj\\Network Model.IntPrjfolder\\Network Data.IntPrjfolder\\Grid.ElmNet\\linea_2.ElmLne')\n",
    "linea3 = user.SearchObject(r'\\56965.IntUser\\simulacion_comtrade.IntPrj\\Network Model.IntPrjfolder\\Network Data.IntPrjfolder\\Grid.ElmNet\\linea_3.ElmLne')"
   ]
  },
  {
   "cell_type": "code",
   "execution_count": null,
   "id": "d65ddf69",
   "metadata": {},
   "outputs": [],
   "source": [
    "linea3"
   ]
  },
  {
   "cell_type": "code",
   "execution_count": null,
   "id": "8ead37e3",
   "metadata": {},
   "outputs": [],
   "source": [
    "#Variables de TTMM\n",
    "varTC=['s:I2r_A','s:I2r_B','s:I2r_C']\n",
    "varTP=['s:U2r_A','s:U2r_B','s:U2r_C']"
   ]
  },
  {
   "cell_type": "code",
   "execution_count": null,
   "id": "406cdc5d",
   "metadata": {},
   "outputs": [],
   "source": [
    "tp1 = linea1.GetCubicle(0).GetContents('TTPP_200000_100.StaVt')[0] \n",
    "tc1 = linea1.GetCubicle(0).GetContents('TTCC_500_5.StaCt')[0]\n",
    "\n",
    "tp2 = linea1.GetCubicle(1).GetContents('TTPP_200000_100.StaVt')[0] \n",
    "tc2 = linea1.GetCubicle(1).GetContents('TTCC_300_1.StaCt')[0]"
   ]
  },
  {
   "cell_type": "code",
   "execution_count": null,
   "id": "2c1e93fc",
   "metadata": {},
   "outputs": [],
   "source": [
    "#crear objeto resultado\n",
    "#resultado = stCase.CreateObject('ElmRes', 'Resultado')\n",
    "resultado = caso_estudio.GetContents('Resultado.ElmRes')[0]\n",
    "\n",
    "if resultado != None:\n",
    "    resultado.Delete()\n",
    "    resultado = caso_estudio.CreateObject('ElmRes', 'Resultado')\n",
    "\n",
    "for tp in [tp1, tp2]: \n",
    "    for v in varTP:\n",
    "        resultado.AddVariable(tp,str(v))\n",
    "        \n",
    "for tc in [tc1, tc2]: \n",
    "    for v in varTC:\n",
    "        resultado.AddVariable(tc,str(v))"
   ]
  },
  {
   "cell_type": "code",
   "execution_count": null,
   "id": "2eadae76",
   "metadata": {},
   "outputs": [],
   "source": [
    "#Se definen los tiempos de simulacion, inicio, despeje y apertura de interruptores\n",
    "t_ini = 0.3\n",
    "t_despeje = 0.8\n",
    "t_abrir = 0.8\n",
    "t_stop = 1\n",
    "\n",
    "#Se hacen ajustes de los eventos\n",
    "\n",
    "#Distancia de linea, este parametro habilitaba en las versiones anteriores de digsilent la opcion\n",
    "#de simular fallas en la linea en EMT\n",
    "#linea1.ishclne = 1\n",
    "#linea2.ishclne = 1\n",
    "#linea3.ishclne = 1\n",
    "\n",
    "#Se ajustan los parametros del evento de cortocircuito\n",
    "#evtCC.p_target = linea\n",
    "evtCC.htime = 0\n",
    "evtCC.mtime = 0\n",
    "evtCC.time = t_ini\n",
    "evtCC.X_f = 0\n",
    "\n",
    "#Se ajustan los parametros del evento de despeje de falla\n",
    "evtDes.i_shc = 4\n",
    "#evtDes.p_target = linea\n",
    "evtDes.time = t_despeje\n",
    "evtDes.htime = 0\n",
    "evtDes.mtime = 0\n",
    "evtDes.i_clearShc = 0\n",
    "\n",
    "#Se ajustan los parametros del evento de apertura de falla\n",
    "#evtOpen.p_target = linea\n",
    "evtOpen.htime = 0\n",
    "evtOpen.mtime = 0\n",
    "evtOpen.time = t_abrir\n",
    "evtOpen.i_switch = 0\n",
    "evtOpen.i_allph = 1"
   ]
  },
  {
   "cell_type": "code",
   "execution_count": null,
   "id": "65ac08f4",
   "metadata": {},
   "outputs": [],
   "source": [
    "#se ajustan los parametros del comando de condiciones iniciales\n",
    "com_init.iopt_sim = 'ins' #tipo de simulación EMT\n",
    "com_init.p_resvar = resultado\n",
    "com_init.p_event = eventos\n",
    "\n",
    "#se ajusta el tiempo de simulación en el comando de ejecución de la simulacion EMT\n",
    "com_run.tstop = t_stop"
   ]
  },
  {
   "cell_type": "code",
   "execution_count": null,
   "id": "9c27f58e",
   "metadata": {},
   "outputs": [],
   "source": [
    "#Se ajustan los parametros del comando de exportancion para generar archivos comtrade\n",
    "export_resul.dSampling = 1000\n",
    "export_resul.iopt_csel = 1\n",
    "export_resul.pResult = resultado\n",
    "export_resul.iopt_exp = 3"
   ]
  },
  {
   "cell_type": "code",
   "execution_count": null,
   "id": "be6f5c4f",
   "metadata": {},
   "outputs": [],
   "source": [
    "#Se definen las caracteristicas de las fallas que se simularan sobre la linea\n",
    "#tipoFalla = {0:'3f',1:'2f', 2:'1f', 3:'2fg'}\n",
    "#tipoFalla = {2:'1f'}\n",
    "#resistencia = list(range(0,105,5))\n",
    "#distancia = list(range(1,100,1))\n",
    "\n",
    "#tipoFalla = {0:'3f'}\n",
    "#resistencia = [0, 5, 10, 25, 50]\n",
    "#distancia = [50]"
   ]
  },
  {
   "cell_type": "code",
   "execution_count": null,
   "id": "735b123f",
   "metadata": {},
   "outputs": [],
   "source": [
    "#ruta_resultados = 'C:\\\\Users\\\\56965\\\\Documents\\\\Master_España\\\\TFM\\\\resultados2\\\\'\n",
    "ruta_resultados = 'C:\\\\Users\\\\56965\\\\Documents\\\\python\\\\Inel_ML\\\\clases\\\\modulo10\\\\tensorflowjs\\\\resultados\\\\'\n",
    "\n",
    "lineas = [linea1, linea2, linea3]\n",
    "\n",
    "#Se ajustan los parametros resistencia de falla, tipo de falla\n",
    "evtCC.R_f = 0\n",
    "evtCC.i_shc = 2\n",
    "\n",
    "for linea in lineas:\n",
    "    evtCC.p_target = linea\n",
    "    evtDes.p_target = linea\n",
    "    evtOpen.p_target = linea\n",
    "                \n",
    "    for i in range(100):\n",
    "        \n",
    "        #distancia de falla\n",
    "        d = np.random.randint(1,100)\n",
    "        \n",
    "        #linea.fshcloc = d en este parametro se ajustaba la distancia anteriormente\n",
    "        evtCC.shcLocation = d\n",
    "\n",
    "        #Se ejecutan los comandos de condiciones iniciales y de simulacion EMT\n",
    "        com_init.Execute()\n",
    "        com_run.Execute()\n",
    "\n",
    "        #Se ajustan parametros del comando de exportacion y se ejecuta (exportar) para el extremo 0\n",
    "        export_resul.f_name = f\"{ruta_resultados}resultado_{'1f'}_{d}_{linea.loc_name}_E0.dat\"\n",
    "        export_resul.resultobj = [resultado, resultado, resultado, resultado, resultado, resultado]\n",
    "        export_resul.element = [tp1, tp1, tp1, tc1, tc1, tc1]\n",
    "        export_resul.cvariable = varTP + varTC\n",
    "        export_resul.Execute()\n",
    "\n",
    "        #Se ajustan parametros del comando de exportacion y se ejecuta (exportar) para el extremo 1\n",
    "        export_resul.f_name = f\"{ruta_resultados}resultado_{'1f'}_{d}_{linea.loc_name}_E1.dat\"\n",
    "        export_resul.resultobj = [resultado, resultado, resultado, resultado, resultado, resultado]\n",
    "        export_resul.element = [tp2, tp2, tp2, tc2, tc2, tc2]\n",
    "        export_resul.cvariable = varTP + varTC\n",
    "        export_resul.Execute()"
   ]
  },
  {
   "cell_type": "markdown",
   "id": "9874ea53",
   "metadata": {},
   "source": [
    "<h2>Leer archivos de resultados</h2>"
   ]
  },
  {
   "cell_type": "code",
   "execution_count": null,
   "id": "d054deb9",
   "metadata": {},
   "outputs": [],
   "source": [
    "ruta_resultados = 'C:\\\\Users\\\\56965\\\\Documents\\\\python\\\\Inel_ML\\\\clases\\\\modulo10\\\\resultados\\\\'"
   ]
  },
  {
   "cell_type": "code",
   "execution_count": null,
   "id": "3d0278c7",
   "metadata": {},
   "outputs": [],
   "source": [
    "archivo_E0_linea1 = [f.split('.')[0] for f in os.listdir(ruta_resultados) if f.find('_linea_1_E0.cfg')>=0]\n",
    "archivo_E0_linea3 = [f.split('.')[0] for f in os.listdir(ruta_resultados) if f.find('_linea_3_E0.cfg')>=0]"
   ]
  },
  {
   "cell_type": "code",
   "execution_count": null,
   "id": "52441a0a",
   "metadata": {},
   "outputs": [],
   "source": [
    "#extremo E0 contiguo a la linea_3\n",
    "#extremo E1 contiguo a la linea_2"
   ]
  },
  {
   "cell_type": "code",
   "execution_count": null,
   "id": "7d928ab0",
   "metadata": {},
   "outputs": [],
   "source": [
    "def leer_comtrade(ruta_archivo_cfg, ruta_archivo_dat):\n",
    "    \n",
    "    #se lee el archivo .cfg para extraer los coeficientes de la ecuación a*x+b de la norma del comtrade\n",
    "    with open(ruta_archivo_cfg, 'r') as f:\n",
    "        contenido = f.readlines()\n",
    "        contenido = [x.rstrip('\\n') for x in contenido]\n",
    "    \n",
    "    n_registros = int(contenido[1].split(',')[0])\n",
    "    n_registros_A = int(contenido[1].split(',')[1].rstrip('A'))\n",
    "    n_registros_D = int(contenido[1].split(',')[2].rstrip('D'))\n",
    "    \n",
    "    var_analogicas = {c.split(',')[1]:{'unidad': c.split(',')[4], \n",
    "                                   'A': float(c.split(',')[5]), \n",
    "                                   'B': float(c.split(',')[6]),\n",
    "                                   'primario': float(c.split(',')[-3]),\n",
    "                                   'secundario': float(c.split(',')[-2]),\n",
    "                                   'escala': c.split(',')[-1]\n",
    "                                  }\n",
    "                      for c in contenido[2:n_registros_A+2]}\n",
    "    \n",
    "    #frecuencia del sistema\n",
    "    f = float(contenido[n_registros + 2])\n",
    "    #frecuencia de muestreo\n",
    "    f_muestreo = float(contenido[n_registros + 4].split(',')[0])\n",
    "    \n",
    "    #lectura archivo .dat\n",
    "    archivo_dat = np.genfromtxt(ruta_archivo_dat, delimiter=',')\n",
    "    \n",
    "    for i,(k,v) in enumerate(var_analogicas.items()):\n",
    "        fanalogv = np.vectorize(lambda x: v['A'] * x + v['B'])\n",
    "        archivo_dat[:,i+2] = fanalogv(archivo_dat[:,i+2])\n",
    "\n",
    "    #se agregan archivo de caracteristicas de entrada X\n",
    "    return (archivo_dat[:, 2:n_registros + 2], var_analogicas, f, f_muestreo)"
   ]
  },
  {
   "cell_type": "code",
   "execution_count": null,
   "id": "6ed1b781",
   "metadata": {},
   "outputs": [],
   "source": [
    "valores, analogicas, f, f_muestreo = leer_comtrade(ruta_resultados+archivo_E0_linea1[0]+'.cfg', ruta_resultados+archivo_E0_linea1[0]+'.dat')"
   ]
  },
  {
   "cell_type": "code",
   "execution_count": null,
   "id": "f71a2c39",
   "metadata": {},
   "outputs": [],
   "source": [
    "#comtrade medidos en el extremo E0 para fallas dentro de la linea 1\n",
    "data_E0_linea1 = np.array([leer_comtrade(ruta_resultados+archivo+'.cfg', ruta_resultados+archivo+'.dat')[0] \n",
    "                              for archivo in archivo_E0_linea1])"
   ]
  },
  {
   "cell_type": "code",
   "execution_count": null,
   "id": "0afb3a19",
   "metadata": {},
   "outputs": [],
   "source": [
    "data_E0_linea1.shape"
   ]
  },
  {
   "cell_type": "code",
   "execution_count": null,
   "id": "9e497dc6",
   "metadata": {},
   "outputs": [],
   "source": [
    "#comtrade medidos en el extremo E0 para fallas fuera de la linea 1 (en a linea 3)\n",
    "data_E0_linea3 = np.array([leer_comtrade(ruta_resultados+archivo+'.cfg', ruta_resultados+archivo+'.dat')[0] \n",
    "                              for archivo in archivo_E0_linea3])"
   ]
  },
  {
   "cell_type": "code",
   "execution_count": null,
   "id": "a687c858",
   "metadata": {},
   "outputs": [],
   "source": [
    "data_E0_linea3.shape"
   ]
  },
  {
   "cell_type": "code",
   "execution_count": null,
   "id": "49811566",
   "metadata": {},
   "outputs": [],
   "source": [
    "data_x = np.concatenate((data_E0_linea1, data_E0_linea3))"
   ]
  },
  {
   "cell_type": "code",
   "execution_count": null,
   "id": "77734164",
   "metadata": {},
   "outputs": [],
   "source": [
    "data_y = np.array([1 if x <=61 else 0 for x in range(125)])"
   ]
  },
  {
   "cell_type": "code",
   "execution_count": null,
   "id": "9930c6c3",
   "metadata": {},
   "outputs": [],
   "source": [
    "data_y.shape"
   ]
  },
  {
   "cell_type": "code",
   "execution_count": null,
   "id": "036392d0",
   "metadata": {},
   "outputs": [],
   "source": [
    "data_x.shape"
   ]
  },
  {
   "cell_type": "markdown",
   "id": "10d1e9b9",
   "metadata": {},
   "source": [
    "<h2>Construir Red Neuronal</h2>"
   ]
  },
  {
   "cell_type": "code",
   "execution_count": null,
   "id": "2bf95e5d",
   "metadata": {},
   "outputs": [],
   "source": [
    "from sklearn.preprocessing import LabelEncoder\n",
    "from keras.utils import np_utils\n",
    "\n",
    "encoder = LabelEncoder()\n",
    "encoder.fit(data_y)\n",
    "LabelEncoder()\n",
    "\n",
    "data_y2 = encoder.transform(data_y)\n",
    "\n",
    "data_y2 = np_utils.to_categorical(data_y2)"
   ]
  },
  {
   "cell_type": "code",
   "execution_count": null,
   "id": "9e63b81b",
   "metadata": {},
   "outputs": [],
   "source": [
    "data_y2.shape"
   ]
  },
  {
   "cell_type": "code",
   "execution_count": null,
   "id": "55891a01",
   "metadata": {},
   "outputs": [],
   "source": [
    "from tensorflow.keras.models import Sequential\n",
    "from tensorflow.keras.layers import Dense\n",
    "from tensorflow.keras.layers import LSTM\n",
    "from tensorflow.keras.layers import Dropout\n",
    "from tensorflow.keras.optimizers import Adam"
   ]
  },
  {
   "cell_type": "code",
   "execution_count": null,
   "id": "90a47819",
   "metadata": {},
   "outputs": [],
   "source": [
    "model = Sequential()\n",
    "model.add(LSTM(100, input_shape=(1101, 6)))\n",
    "model.add(Dropout(0.5))\n",
    "model.add(Dense(100, activation='relu'))\n",
    "model.add(Dense(2, activation='softmax'))"
   ]
  },
  {
   "cell_type": "code",
   "execution_count": null,
   "id": "e35a6230",
   "metadata": {},
   "outputs": [],
   "source": [
    "model.compile(loss='binary_crossentropy',optimizer='adam',metrics=['accuracy'])"
   ]
  },
  {
   "cell_type": "code",
   "execution_count": null,
   "id": "4b9b1259",
   "metadata": {},
   "outputs": [],
   "source": [
    "history = model.fit(data_x, data_y2, epochs=10, batch_size=64, verbose=2)"
   ]
  },
  {
   "cell_type": "code",
   "execution_count": null,
   "id": "3d9f109c",
   "metadata": {},
   "outputs": [],
   "source": [
    "prediccion = [np.argmax(v) for v in model.predict(data_x)]"
   ]
  },
  {
   "cell_type": "code",
   "execution_count": null,
   "id": "80a6be29",
   "metadata": {},
   "outputs": [],
   "source": [
    "prediccion"
   ]
  },
  {
   "cell_type": "code",
   "execution_count": null,
   "id": "7baa5314",
   "metadata": {},
   "outputs": [],
   "source": [
    "model.save(\"model_comtrade.h5\")"
   ]
  },
  {
   "cell_type": "code",
   "execution_count": null,
   "id": "fd5a1b43",
   "metadata": {},
   "outputs": [],
   "source": [
    "#!pip install tensorflowjs"
   ]
  },
  {
   "cell_type": "code",
   "execution_count": null,
   "id": "388c48af",
   "metadata": {},
   "outputs": [],
   "source": [
    "!tensorflowjs_converter --input_format keras \"model_comtrade.h5\" ./jsmodel"
   ]
  },
  {
   "cell_type": "code",
   "execution_count": null,
   "id": "b9728c41",
   "metadata": {},
   "outputs": [],
   "source": []
  },
  {
   "cell_type": "code",
   "execution_count": null,
   "id": "d0825922",
   "metadata": {},
   "outputs": [],
   "source": [
    "archivo_interno = leer_comtrade(ruta_resultados+archivo_E0_linea1[0]+'.cfg', ruta_resultados+archivo_E0_linea1[0]+'.dat')[0]"
   ]
  },
  {
   "cell_type": "code",
   "execution_count": null,
   "id": "06baa143",
   "metadata": {},
   "outputs": [],
   "source": [
    "archivo_externo = leer_comtrade(ruta_resultados+archivo_E0_linea3[0]+'.cfg', ruta_resultados+archivo_E0_linea3[0]+'.dat')[0]"
   ]
  },
  {
   "cell_type": "code",
   "execution_count": null,
   "id": "368cb50d",
   "metadata": {},
   "outputs": [],
   "source": [
    "np.savetxt(\"interno.csv\", archivo_interno, delimiter=\",\")\n",
    "np.savetxt(\"externo.csv\", archivo_externo, delimiter=\",\")"
   ]
  },
  {
   "cell_type": "code",
   "execution_count": null,
   "id": "a23b3379",
   "metadata": {},
   "outputs": [],
   "source": []
  }
 ],
 "metadata": {
  "kernelspec": {
   "display_name": "Python 3 (ipykernel)",
   "language": "python",
   "name": "python3"
  },
  "language_info": {
   "codemirror_mode": {
    "name": "ipython",
    "version": 3
   },
   "file_extension": ".py",
   "mimetype": "text/x-python",
   "name": "python",
   "nbconvert_exporter": "python",
   "pygments_lexer": "ipython3",
   "version": "3.9.12"
  }
 },
 "nbformat": 4,
 "nbformat_minor": 5
}
